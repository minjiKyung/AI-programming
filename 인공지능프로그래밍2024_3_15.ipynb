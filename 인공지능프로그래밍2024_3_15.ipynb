{
  "nbformat": 4,
  "nbformat_minor": 0,
  "metadata": {
    "colab": {
      "provenance": []
    },
    "kernelspec": {
      "name": "python3",
      "display_name": "Python 3"
    },
    "language_info": {
      "name": "python"
    }
  },
  "cells": [
    {
      "cell_type": "code",
      "execution_count": null,
      "metadata": {
        "id": "7aRD6XCvk9rJ"
      },
      "outputs": [],
      "source": [
        "import numpy as np\n",
        "imprt tensorflow as tf\n",
        "import torch\n"
      ]
    },
    {
      "cell_type": "code",
      "source": [
        "tensor 생성하기\n",
        "\n",
        "\n",
        "float64 정확함\n"
      ],
      "metadata": {
        "id": "xCNTYBO2sLLu"
      },
      "execution_count": null,
      "outputs": []
    },
    {
      "cell_type": "code",
      "source": [
        "t = (1,2,3,4,5,6)\n",
        "a = np.array(t)\n",
        "print(type(t))\n",
        "print(type(a))"
      ],
      "metadata": {
        "id": "r-nHB2c9uKpP"
      },
      "execution_count": null,
      "outputs": []
    },
    {
      "cell_type": "code",
      "source": [
        "print(a.ndim) 몇차원 어레이인지\n",
        "print(a.shape) 각차원이 몇개의 숫자로 되어있는지\n",
        "print(a.itemsize) 바이트 반환\n",
        "print(a.size)\n",
        "print(a.dtype)\n",
        "\n",
        "\n",
        "인스턴스에 따라서 정보를 나타냄"
      ],
      "metadata": {
        "id": "gZv__gLUuo8P"
      },
      "execution_count": null,
      "outputs": []
    },
    {
      "cell_type": "markdown",
      "source": [
        "1\n",
        "(6,)\n",
        "8\n",
        "6\n",
        "int64"
      ],
      "metadata": {
        "id": "N08pjlb1wljc"
      }
    },
    {
      "cell_type": "code",
      "source": [
        "a = np.array([1.,2.,3.])\n",
        "print(a.dtype)\n",
        "a ="
      ],
      "metadata": {
        "id": "EognpgsJwrLh"
      },
      "execution_count": null,
      "outputs": []
    },
    {
      "cell_type": "markdown",
      "source": [
        "텐서플로우에서의 텐서 생성하기\n",
        "\n",
        "넌파이 기준으로 공부\n",
        "ndim dtype shape\n",
        "텐서-차원을 의미\n",
        "텐서플로우-32비트\n"
      ],
      "metadata": {
        "id": "gG6xb7PjxTJ5"
      }
    },
    {
      "cell_type": "markdown",
      "source": [
        "pyorch에서 tensor생성하기\n"
      ],
      "metadata": {
        "id": "OKMxLPet1zU4"
      }
    },
    {
      "cell_type": "markdown",
      "source": [
        "\n",
        "numpy의 경우 float64 와  int64\n",
        "tensorflow의 경우 float32 와 int32\n",
        "torch의 경우 float32와 int4"
      ],
      "metadata": {
        "id": "yyBlTsrE3JK9"
      }
    },
    {
      "cell_type": "markdown",
      "source": [],
      "metadata": {
        "id": "x11XaU014ITd"
      }
    },
    {
      "cell_type": "markdown",
      "source": [
        "for i in 값 파악\n"
      ],
      "metadata": {
        "id": "nPdNZ7tA4MTM"
      }
    },
    {
      "cell_type": "markdown",
      "source": [
        "넌파이로 리스트 만들기\n"
      ],
      "metadata": {
        "id": "VNbfQuW14mPz"
      }
    },
    {
      "cell_type": "markdown",
      "source": [
        "-tensor를 특정 값으로 초기화하기\n",
        "zeros ones and full (orfill)\n"
      ],
      "metadata": {
        "id": "s5q132dP4_XA"
      }
    },
    {
      "cell_type": "code",
      "source": [
        "a=np.zeros((3,2))#defalt dtype  float64\n",
        "#a=np.zeros(shape=(4,4),dtype=np.unit8)\n",
        "print(a,dtype)\n",
        "a"
      ],
      "metadata": {
        "id": "RQRdEwt65DRi"
      },
      "execution_count": null,
      "outputs": []
    },
    {
      "cell_type": "code",
      "source": [
        "xxx=np.eye(3)\n",
        "print(xxx,dtype)\n",
        "xxx\n"
      ],
      "metadata": {
        "id": "QY7QJPfx6-n9"
      },
      "execution_count": null,
      "outputs": []
    },
    {
      "cell_type": "code",
      "source": [
        "a = np,full((1,3)255) #0이나1이아닌 수 넣을때 사용\n",
        "print(a,dtype)\n",
        "a"
      ],
      "metadata": {
        "id": "0sFqeNCo7LxT"
      },
      "execution_count": null,
      "outputs": []
    },
    {
      "cell_type": "code",
      "source": [
        "a_t f =tf.fill"
      ],
      "metadata": {
        "id": "joiGeGpR8Cs4"
      },
      "execution_count": null,
      "outputs": []
    },
    {
      "cell_type": "markdown",
      "source": [
        "기존의 tensor와 같은 shape의 새로운 tensor생성\n",
        "-기존의 ndarry와 같은 shape를 가지는 ndarray 생성(zeros_like, ones_like, full_like)\n",
        "tf의 경우는 다음과 같(zeros_like, ones_like, and fill\n"
      ],
      "metadata": {
        "id": "f_zV0DSk8MA7"
      }
    },
    {
      "cell_type": "markdown",
      "source": [
        "linspace로 적용시킬시\n",
        "float 64(32가 아님)"
      ],
      "metadata": {
        "id": "NDvZDwGi-xA1"
      }
    },
    {
      "cell_type": "markdown",
      "source": [
        "np.empty는 초기화를 안하고 새로운 매트릭스를 생성해냄 (쓰는걸 권하지 않음)"
      ],
      "metadata": {
        "id": "yNWClx5N_TzK"
      }
    },
    {
      "cell_type": "markdown",
      "source": [
        "-난수로 구성된 tensor생성(numpy.random와 toch->ran([d0[...,dn]), tendorflow->random.)"
      ],
      "metadata": {
        "id": "Ri6C9Qe5AH03"
      }
    }
  ]
}